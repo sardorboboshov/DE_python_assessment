{
  "nbformat": 4,
  "nbformat_minor": 0,
  "metadata": {
    "colab": {
      "provenance": []
    },
    "kernelspec": {
      "name": "python3",
      "display_name": "Python 3"
    },
    "language_info": {
      "name": "python"
    }
  },
  "cells": [
    {
      "cell_type": "markdown",
      "source": [
        "## 0. Importing necessary libraries"
      ],
      "metadata": {
        "id": "o8sx32ePlcVK"
      }
    },
    {
      "cell_type": "code",
      "execution_count": 1,
      "metadata": {
        "id": "qa2H5IN2bYmM"
      },
      "outputs": [],
      "source": [
        "import pandas as pd\n",
        "import numpy as np\n",
        "import json\n",
        "from collections import Counter\n",
        "from datetime import datetime"
      ]
    },
    {
      "cell_type": "markdown",
      "source": [
        "## 1. Parsing data"
      ],
      "metadata": {
        "id": "13rBwCPWlgO8"
      }
    },
    {
      "cell_type": "code",
      "source": [
        "# make sure that data.csv file is downloaded\n",
        "df = pd.read_csv('data.csv')\n",
        "df = df.dropna(subset=['contracts'])\n",
        "df.head()"
      ],
      "metadata": {
        "colab": {
          "base_uri": "https://localhost:8080/",
          "height": 206
        },
        "id": "2E73WZZ2bmkQ",
        "outputId": "eca188f9-257e-4147-8411-492786bd9d21"
      },
      "execution_count": 2,
      "outputs": [
        {
          "output_type": "execute_result",
          "data": {
            "text/plain": [
              "          id                  application_date  \\\n",
              "1  2925211.0  2024-02-12 19:24:29.135000+00:00   \n",
              "3  2925213.0  2024-02-12 19:24:29.135000+00:00   \n",
              "5  2925215.0  2024-02-12 19:25:10.176000+00:00   \n",
              "6  2925216.0  2024-02-12 19:25:10.176000+00:00   \n",
              "8  2925218.0  2024-02-12 19:40:15.507000+00:00   \n",
              "\n",
              "                                           contracts  \n",
              "1  [{\"contract_id\": 522530, \"bank\": \"003\", \"summa...  \n",
              "3  [{\"contract_id\": 522530, \"bank\": \"003\", \"summa...  \n",
              "5  [{\"contract_id\": 522530, \"bank\": \"003\", \"summa...  \n",
              "6  [{\"contract_id\": 522530, \"bank\": \"003\", \"summa...  \n",
              "8  [{\"contract_id\": \"\", \"bank\": \"062\", \"summa\": \"...  "
            ],
            "text/html": [
              "\n",
              "  <div id=\"df-8befbbce-77c3-42c5-9adb-e34fefb22205\" class=\"colab-df-container\">\n",
              "    <div>\n",
              "<style scoped>\n",
              "    .dataframe tbody tr th:only-of-type {\n",
              "        vertical-align: middle;\n",
              "    }\n",
              "\n",
              "    .dataframe tbody tr th {\n",
              "        vertical-align: top;\n",
              "    }\n",
              "\n",
              "    .dataframe thead th {\n",
              "        text-align: right;\n",
              "    }\n",
              "</style>\n",
              "<table border=\"1\" class=\"dataframe\">\n",
              "  <thead>\n",
              "    <tr style=\"text-align: right;\">\n",
              "      <th></th>\n",
              "      <th>id</th>\n",
              "      <th>application_date</th>\n",
              "      <th>contracts</th>\n",
              "    </tr>\n",
              "  </thead>\n",
              "  <tbody>\n",
              "    <tr>\n",
              "      <th>1</th>\n",
              "      <td>2925211.0</td>\n",
              "      <td>2024-02-12 19:24:29.135000+00:00</td>\n",
              "      <td>[{\"contract_id\": 522530, \"bank\": \"003\", \"summa...</td>\n",
              "    </tr>\n",
              "    <tr>\n",
              "      <th>3</th>\n",
              "      <td>2925213.0</td>\n",
              "      <td>2024-02-12 19:24:29.135000+00:00</td>\n",
              "      <td>[{\"contract_id\": 522530, \"bank\": \"003\", \"summa...</td>\n",
              "    </tr>\n",
              "    <tr>\n",
              "      <th>5</th>\n",
              "      <td>2925215.0</td>\n",
              "      <td>2024-02-12 19:25:10.176000+00:00</td>\n",
              "      <td>[{\"contract_id\": 522530, \"bank\": \"003\", \"summa...</td>\n",
              "    </tr>\n",
              "    <tr>\n",
              "      <th>6</th>\n",
              "      <td>2925216.0</td>\n",
              "      <td>2024-02-12 19:25:10.176000+00:00</td>\n",
              "      <td>[{\"contract_id\": 522530, \"bank\": \"003\", \"summa...</td>\n",
              "    </tr>\n",
              "    <tr>\n",
              "      <th>8</th>\n",
              "      <td>2925218.0</td>\n",
              "      <td>2024-02-12 19:40:15.507000+00:00</td>\n",
              "      <td>[{\"contract_id\": \"\", \"bank\": \"062\", \"summa\": \"...</td>\n",
              "    </tr>\n",
              "  </tbody>\n",
              "</table>\n",
              "</div>\n",
              "    <div class=\"colab-df-buttons\">\n",
              "\n",
              "  <div class=\"colab-df-container\">\n",
              "    <button class=\"colab-df-convert\" onclick=\"convertToInteractive('df-8befbbce-77c3-42c5-9adb-e34fefb22205')\"\n",
              "            title=\"Convert this dataframe to an interactive table.\"\n",
              "            style=\"display:none;\">\n",
              "\n",
              "  <svg xmlns=\"http://www.w3.org/2000/svg\" height=\"24px\" viewBox=\"0 -960 960 960\">\n",
              "    <path d=\"M120-120v-720h720v720H120Zm60-500h600v-160H180v160Zm220 220h160v-160H400v160Zm0 220h160v-160H400v160ZM180-400h160v-160H180v160Zm440 0h160v-160H620v160ZM180-180h160v-160H180v160Zm440 0h160v-160H620v160Z\"/>\n",
              "  </svg>\n",
              "    </button>\n",
              "\n",
              "  <style>\n",
              "    .colab-df-container {\n",
              "      display:flex;\n",
              "      gap: 12px;\n",
              "    }\n",
              "\n",
              "    .colab-df-convert {\n",
              "      background-color: #E8F0FE;\n",
              "      border: none;\n",
              "      border-radius: 50%;\n",
              "      cursor: pointer;\n",
              "      display: none;\n",
              "      fill: #1967D2;\n",
              "      height: 32px;\n",
              "      padding: 0 0 0 0;\n",
              "      width: 32px;\n",
              "    }\n",
              "\n",
              "    .colab-df-convert:hover {\n",
              "      background-color: #E2EBFA;\n",
              "      box-shadow: 0px 1px 2px rgba(60, 64, 67, 0.3), 0px 1px 3px 1px rgba(60, 64, 67, 0.15);\n",
              "      fill: #174EA6;\n",
              "    }\n",
              "\n",
              "    .colab-df-buttons div {\n",
              "      margin-bottom: 4px;\n",
              "    }\n",
              "\n",
              "    [theme=dark] .colab-df-convert {\n",
              "      background-color: #3B4455;\n",
              "      fill: #D2E3FC;\n",
              "    }\n",
              "\n",
              "    [theme=dark] .colab-df-convert:hover {\n",
              "      background-color: #434B5C;\n",
              "      box-shadow: 0px 1px 3px 1px rgba(0, 0, 0, 0.15);\n",
              "      filter: drop-shadow(0px 1px 2px rgba(0, 0, 0, 0.3));\n",
              "      fill: #FFFFFF;\n",
              "    }\n",
              "  </style>\n",
              "\n",
              "    <script>\n",
              "      const buttonEl =\n",
              "        document.querySelector('#df-8befbbce-77c3-42c5-9adb-e34fefb22205 button.colab-df-convert');\n",
              "      buttonEl.style.display =\n",
              "        google.colab.kernel.accessAllowed ? 'block' : 'none';\n",
              "\n",
              "      async function convertToInteractive(key) {\n",
              "        const element = document.querySelector('#df-8befbbce-77c3-42c5-9adb-e34fefb22205');\n",
              "        const dataTable =\n",
              "          await google.colab.kernel.invokeFunction('convertToInteractive',\n",
              "                                                    [key], {});\n",
              "        if (!dataTable) return;\n",
              "\n",
              "        const docLinkHtml = 'Like what you see? Visit the ' +\n",
              "          '<a target=\"_blank\" href=https://colab.research.google.com/notebooks/data_table.ipynb>data table notebook</a>'\n",
              "          + ' to learn more about interactive tables.';\n",
              "        element.innerHTML = '';\n",
              "        dataTable['output_type'] = 'display_data';\n",
              "        await google.colab.output.renderOutput(dataTable, element);\n",
              "        const docLink = document.createElement('div');\n",
              "        docLink.innerHTML = docLinkHtml;\n",
              "        element.appendChild(docLink);\n",
              "      }\n",
              "    </script>\n",
              "  </div>\n",
              "\n",
              "\n",
              "<div id=\"df-c1481624-867b-4ac9-8cc5-31d30a24254c\">\n",
              "  <button class=\"colab-df-quickchart\" onclick=\"quickchart('df-c1481624-867b-4ac9-8cc5-31d30a24254c')\"\n",
              "            title=\"Suggest charts\"\n",
              "            style=\"display:none;\">\n",
              "\n",
              "<svg xmlns=\"http://www.w3.org/2000/svg\" height=\"24px\"viewBox=\"0 0 24 24\"\n",
              "     width=\"24px\">\n",
              "    <g>\n",
              "        <path d=\"M19 3H5c-1.1 0-2 .9-2 2v14c0 1.1.9 2 2 2h14c1.1 0 2-.9 2-2V5c0-1.1-.9-2-2-2zM9 17H7v-7h2v7zm4 0h-2V7h2v10zm4 0h-2v-4h2v4z\"/>\n",
              "    </g>\n",
              "</svg>\n",
              "  </button>\n",
              "\n",
              "<style>\n",
              "  .colab-df-quickchart {\n",
              "      --bg-color: #E8F0FE;\n",
              "      --fill-color: #1967D2;\n",
              "      --hover-bg-color: #E2EBFA;\n",
              "      --hover-fill-color: #174EA6;\n",
              "      --disabled-fill-color: #AAA;\n",
              "      --disabled-bg-color: #DDD;\n",
              "  }\n",
              "\n",
              "  [theme=dark] .colab-df-quickchart {\n",
              "      --bg-color: #3B4455;\n",
              "      --fill-color: #D2E3FC;\n",
              "      --hover-bg-color: #434B5C;\n",
              "      --hover-fill-color: #FFFFFF;\n",
              "      --disabled-bg-color: #3B4455;\n",
              "      --disabled-fill-color: #666;\n",
              "  }\n",
              "\n",
              "  .colab-df-quickchart {\n",
              "    background-color: var(--bg-color);\n",
              "    border: none;\n",
              "    border-radius: 50%;\n",
              "    cursor: pointer;\n",
              "    display: none;\n",
              "    fill: var(--fill-color);\n",
              "    height: 32px;\n",
              "    padding: 0;\n",
              "    width: 32px;\n",
              "  }\n",
              "\n",
              "  .colab-df-quickchart:hover {\n",
              "    background-color: var(--hover-bg-color);\n",
              "    box-shadow: 0 1px 2px rgba(60, 64, 67, 0.3), 0 1px 3px 1px rgba(60, 64, 67, 0.15);\n",
              "    fill: var(--button-hover-fill-color);\n",
              "  }\n",
              "\n",
              "  .colab-df-quickchart-complete:disabled,\n",
              "  .colab-df-quickchart-complete:disabled:hover {\n",
              "    background-color: var(--disabled-bg-color);\n",
              "    fill: var(--disabled-fill-color);\n",
              "    box-shadow: none;\n",
              "  }\n",
              "\n",
              "  .colab-df-spinner {\n",
              "    border: 2px solid var(--fill-color);\n",
              "    border-color: transparent;\n",
              "    border-bottom-color: var(--fill-color);\n",
              "    animation:\n",
              "      spin 1s steps(1) infinite;\n",
              "  }\n",
              "\n",
              "  @keyframes spin {\n",
              "    0% {\n",
              "      border-color: transparent;\n",
              "      border-bottom-color: var(--fill-color);\n",
              "      border-left-color: var(--fill-color);\n",
              "    }\n",
              "    20% {\n",
              "      border-color: transparent;\n",
              "      border-left-color: var(--fill-color);\n",
              "      border-top-color: var(--fill-color);\n",
              "    }\n",
              "    30% {\n",
              "      border-color: transparent;\n",
              "      border-left-color: var(--fill-color);\n",
              "      border-top-color: var(--fill-color);\n",
              "      border-right-color: var(--fill-color);\n",
              "    }\n",
              "    40% {\n",
              "      border-color: transparent;\n",
              "      border-right-color: var(--fill-color);\n",
              "      border-top-color: var(--fill-color);\n",
              "    }\n",
              "    60% {\n",
              "      border-color: transparent;\n",
              "      border-right-color: var(--fill-color);\n",
              "    }\n",
              "    80% {\n",
              "      border-color: transparent;\n",
              "      border-right-color: var(--fill-color);\n",
              "      border-bottom-color: var(--fill-color);\n",
              "    }\n",
              "    90% {\n",
              "      border-color: transparent;\n",
              "      border-bottom-color: var(--fill-color);\n",
              "    }\n",
              "  }\n",
              "</style>\n",
              "\n",
              "  <script>\n",
              "    async function quickchart(key) {\n",
              "      const quickchartButtonEl =\n",
              "        document.querySelector('#' + key + ' button');\n",
              "      quickchartButtonEl.disabled = true;  // To prevent multiple clicks.\n",
              "      quickchartButtonEl.classList.add('colab-df-spinner');\n",
              "      try {\n",
              "        const charts = await google.colab.kernel.invokeFunction(\n",
              "            'suggestCharts', [key], {});\n",
              "      } catch (error) {\n",
              "        console.error('Error during call to suggestCharts:', error);\n",
              "      }\n",
              "      quickchartButtonEl.classList.remove('colab-df-spinner');\n",
              "      quickchartButtonEl.classList.add('colab-df-quickchart-complete');\n",
              "    }\n",
              "    (() => {\n",
              "      let quickchartButtonEl =\n",
              "        document.querySelector('#df-c1481624-867b-4ac9-8cc5-31d30a24254c button');\n",
              "      quickchartButtonEl.style.display =\n",
              "        google.colab.kernel.accessAllowed ? 'block' : 'none';\n",
              "    })();\n",
              "  </script>\n",
              "</div>\n",
              "\n",
              "    </div>\n",
              "  </div>\n"
            ],
            "application/vnd.google.colaboratory.intrinsic+json": {
              "type": "dataframe",
              "variable_name": "df",
              "summary": "{\n  \"name\": \"df\",\n  \"rows\": 495,\n  \"fields\": [\n    {\n      \"column\": \"id\",\n      \"properties\": {\n        \"dtype\": \"number\",\n        \"std\": 280.8529149159599,\n        \"min\": 2925211.0,\n        \"max\": 2926205.0,\n        \"num_unique_values\": 495,\n        \"samples\": [\n          2926123.0,\n          2925379.0,\n          2925832.0\n        ],\n        \"semantic_type\": \"\",\n        \"description\": \"\"\n      }\n    },\n    {\n      \"column\": \"application_date\",\n      \"properties\": {\n        \"dtype\": \"string\",\n        \"num_unique_values\": 248,\n        \"samples\": [\n          \"2024-02-13 04:28:29.262000+00:00\",\n          \"2024-02-13 03:41:40.303000+00:00\",\n          \"2024-02-13 05:44:37.477000+00:00\"\n        ],\n        \"semantic_type\": \"\",\n        \"description\": \"\"\n      }\n    },\n    {\n      \"column\": \"contracts\",\n      \"properties\": {\n        \"dtype\": \"category\",\n        \"num_unique_values\": 137,\n        \"samples\": [\n          \"[{\\\"contract_id\\\": \\\"\\\", \\\"bank\\\": \\\"006\\\", \\\"summa\\\": \\\"\\\", \\\"loan_summa\\\": \\\"\\\", \\\"claim_date\\\": \\\"14.07.2015\\\", \\\"claim_id\\\": 2401, \\\"contract_date\\\": \\\"\\\"}, {\\\"contract_id\\\": \\\"\\\", \\\"bank\\\": \\\"006\\\", \\\"summa\\\": \\\"\\\", \\\"loan_summa\\\": \\\"\\\", \\\"claim_date\\\": \\\"21.07.2015\\\", \\\"claim_id\\\": 2414, \\\"contract_date\\\": \\\"\\\"}, {\\\"contract_id\\\": \\\"\\\", \\\"bank\\\": \\\"LOM\\\", \\\"summa\\\": \\\"\\\", \\\"loan_summa\\\": \\\"\\\", \\\"claim_date\\\": \\\"31.07.2015\\\", \\\"claim_id\\\": 12248, \\\"contract_date\\\": \\\"\\\"}, {\\\"contract_id\\\": \\\"\\\", \\\"bank\\\": \\\"LOM\\\", \\\"summa\\\": \\\"\\\", \\\"loan_summa\\\": \\\"\\\", \\\"claim_date\\\": \\\"29.09.2015\\\", \\\"claim_id\\\": 15003, \\\"contract_date\\\": \\\"\\\"}, {\\\"contract_id\\\": \\\"\\\", \\\"bank\\\": \\\"ORG\\\", \\\"summa\\\": \\\"\\\", \\\"loan_summa\\\": \\\"\\\", \\\"claim_date\\\": \\\"15.11.2022\\\", \\\"claim_id\\\": 1393938, \\\"contract_date\\\": \\\"\\\"}, {\\\"contract_id\\\": \\\"\\\", \\\"bank\\\": \\\"ORG\\\", \\\"summa\\\": \\\"\\\", \\\"loan_summa\\\": \\\"\\\", \\\"claim_date\\\": \\\"21.11.2022\\\", \\\"claim_id\\\": 1410297, \\\"contract_date\\\": \\\"\\\"}, {\\\"contract_id\\\": \\\"\\\", \\\"bank\\\": \\\"ORG\\\", \\\"summa\\\": \\\"\\\", \\\"loan_summa\\\": \\\"\\\", \\\"claim_date\\\": \\\"24.11.2022\\\", \\\"claim_id\\\": 1424320, \\\"contract_date\\\": \\\"\\\"}]\",\n          \"[{\\\"contract_id\\\": 10885, \\\"bank\\\": \\\"004\\\", \\\"summa\\\": 740000000, \\\"loan_summa\\\": 0, \\\"claim_date\\\": \\\"19.03.2017\\\", \\\"claim_id\\\": 10885, \\\"contract_date\\\": \\\"05.04.2017\\\"}, {\\\"contract_id\\\": \\\"\\\", \\\"bank\\\": \\\"048\\\", \\\"summa\\\": \\\"\\\", \\\"loan_summa\\\": \\\"\\\", \\\"claim_date\\\": \\\"10.01.2022\\\", \\\"claim_id\\\": 353108, \\\"contract_date\\\": \\\"\\\"}, {\\\"contract_id\\\": 7100248727, \\\"bank\\\": \\\"049\\\", \\\"summa\\\": 10880000000, \\\"loan_summa\\\": 10435758829, \\\"claim_date\\\": \\\"23.08.2023\\\", \\\"claim_id\\\": 7100248727, \\\"contract_date\\\": \\\"25.08.2023\\\"}, {\\\"contract_id\\\": \\\"\\\", \\\"bank\\\": \\\"002\\\", \\\"summa\\\": \\\"\\\", \\\"loan_summa\\\": \\\"\\\", \\\"claim_date\\\": \\\"21.12.2023\\\", \\\"claim_id\\\": \\\"NBU_SL276729#1-H\\\", \\\"contract_date\\\": \\\"\\\"}, {\\\"contract_id\\\": \\\"\\\", \\\"bank\\\": \\\"002\\\", \\\"summa\\\": \\\"\\\", \\\"loan_summa\\\": \\\"\\\", \\\"claim_date\\\": \\\"21.12.2023\\\", \\\"claim_id\\\": \\\"NBU_SL276729#1-J\\\", \\\"contract_date\\\": \\\"\\\"}, {\\\"contract_id\\\": \\\"\\\", \\\"bank\\\": \\\"033\\\", \\\"summa\\\": \\\"\\\", \\\"loan_summa\\\": \\\"\\\", \\\"claim_date\\\": \\\"23.12.2023\\\", \\\"claim_id\\\": 4693524630, \\\"contract_date\\\": \\\"\\\"}, {\\\"contract_id\\\": \\\"\\\", \\\"bank\\\": \\\"063\\\", \\\"summa\\\": \\\"\\\", \\\"loan_summa\\\": \\\"\\\", \\\"claim_date\\\": \\\"29.12.2023\\\", \\\"claim_id\\\": 554084237, \\\"contract_date\\\": \\\"\\\"}, {\\\"contract_id\\\": \\\"\\\", \\\"bank\\\": \\\"063\\\", \\\"summa\\\": \\\"\\\", \\\"loan_summa\\\": \\\"\\\", \\\"claim_date\\\": \\\"13.02.2024\\\", \\\"claim_id\\\": 554501361, \\\"contract_date\\\": \\\"\\\"}]\",\n          \"[{\\\"contract_id\\\": \\\"\\\", \\\"bank\\\": \\\"014\\\", \\\"summa\\\": \\\"\\\", \\\"loan_summa\\\": \\\"\\\", \\\"claim_date\\\": \\\"13.02.2024\\\", \\\"claim_id\\\": \\\"F01694041\\\", \\\"contract_date\\\": \\\"\\\"}, {\\\"contract_id\\\": \\\"\\\", \\\"bank\\\": \\\"063\\\", \\\"summa\\\": \\\"\\\", \\\"loan_summa\\\": \\\"\\\", \\\"claim_date\\\": \\\"13.02.2024\\\", \\\"claim_id\\\": 554500479, \\\"contract_date\\\": \\\"\\\"}]\"\n        ],\n        \"semantic_type\": \"\",\n        \"description\": \"\"\n      }\n    }\n  ]\n}"
            }
          },
          "metadata": {},
          "execution_count": 2
        }
      ]
    },
    {
      "cell_type": "markdown",
      "source": [
        "As we can see `contracts` column is json format and we need to parse it."
      ],
      "metadata": {
        "id": "_2zTh6-ClmwJ"
      }
    },
    {
      "cell_type": "markdown",
      "source": [
        "Let's learn how the types of `contracts` look like"
      ],
      "metadata": {
        "id": "xOlcIIcd9tL7"
      }
    },
    {
      "cell_type": "code",
      "source": [
        "types = set()\n",
        "for row in range(df.shape[0]):\n",
        "  types.add(type(json.loads(df.iloc[row]['contracts'])))\n",
        "types"
      ],
      "metadata": {
        "colab": {
          "base_uri": "https://localhost:8080/"
        },
        "id": "x4qmTnKnkuZd",
        "outputId": "ea6a3919-6ce0-4171-c54f-9b669dee2d8d"
      },
      "execution_count": 4,
      "outputs": [
        {
          "output_type": "execute_result",
          "data": {
            "text/plain": [
              "{dict, list}"
            ]
          },
          "metadata": {},
          "execution_count": 4
        }
      ]
    },
    {
      "cell_type": "markdown",
      "source": [
        "So, in some rows, contracts consist of multiple contracts, in some cases it is just one contract (hence they are `dict` type)"
      ],
      "metadata": {
        "id": "rnWoFRpn8ped"
      }
    },
    {
      "cell_type": "code",
      "source": [
        "sample = json.loads(df.iloc[0]['contracts'])\n",
        "keys = [key for key in sample[0]]\n",
        "keys"
      ],
      "metadata": {
        "colab": {
          "base_uri": "https://localhost:8080/"
        },
        "id": "NJ-fC0Klfahf",
        "outputId": "a37662d9-530a-40c7-83c5-3a3e24bb6f53"
      },
      "execution_count": 5,
      "outputs": [
        {
          "output_type": "execute_result",
          "data": {
            "text/plain": [
              "['contract_id',\n",
              " 'bank',\n",
              " 'summa',\n",
              " 'loan_summa',\n",
              " 'claim_date',\n",
              " 'claim_id',\n",
              " 'contract_date']"
            ]
          },
          "metadata": {},
          "execution_count": 5
        }
      ]
    },
    {
      "cell_type": "code",
      "source": [
        "df['contracts']"
      ],
      "metadata": {
        "colab": {
          "base_uri": "https://localhost:8080/"
        },
        "id": "gltJ6XCKILe1",
        "outputId": "81fcda96-907a-4ae7-f7b3-61e869a9dbcf"
      },
      "execution_count": 6,
      "outputs": [
        {
          "output_type": "execute_result",
          "data": {
            "text/plain": [
              "1      [{\"contract_id\": 522530, \"bank\": \"003\", \"summa...\n",
              "3      [{\"contract_id\": 522530, \"bank\": \"003\", \"summa...\n",
              "5      [{\"contract_id\": 522530, \"bank\": \"003\", \"summa...\n",
              "6      [{\"contract_id\": 522530, \"bank\": \"003\", \"summa...\n",
              "8      [{\"contract_id\": \"\", \"bank\": \"062\", \"summa\": \"...\n",
              "                             ...                        \n",
              "985    [{\"contract_id\": \"\", \"bank\": \"014\", \"summa\": \"...\n",
              "986    [{\"contract_id\": \"\", \"bank\": \"014\", \"summa\": \"...\n",
              "989    [{\"contract_id\": 18410, \"bank\": \"004\", \"summa\"...\n",
              "991    [{\"contract_id\": 18410, \"bank\": \"004\", \"summa\"...\n",
              "995    [{\"contract_id\": 18410, \"bank\": \"004\", \"summa\"...\n",
              "Name: contracts, Length: 495, dtype: object"
            ]
          },
          "metadata": {},
          "execution_count": 6
        }
      ]
    },
    {
      "cell_type": "code",
      "source": [
        "df['contracts'] = df['contracts'].apply(lambda x: json.loads(x))"
      ],
      "metadata": {
        "id": "YLnT-sEqH-1E"
      },
      "execution_count": 7,
      "outputs": []
    },
    {
      "cell_type": "markdown",
      "source": [
        "We can see there are a lot of duplicates.\n",
        "First 4 contracts are literally the same"
      ],
      "metadata": {
        "id": "y0N4nRwy-1Qy"
      }
    },
    {
      "cell_type": "code",
      "source": [
        "df = df.drop_duplicates(subset=['contracts'])"
      ],
      "metadata": {
        "id": "Gggd-oTh-_rp"
      },
      "execution_count": 8,
      "outputs": []
    },
    {
      "cell_type": "code",
      "source": [
        "df['contracts']"
      ],
      "metadata": {
        "colab": {
          "base_uri": "https://localhost:8080/"
        },
        "id": "wDmCZ7in_QN1",
        "outputId": "19f3de95-01dd-4dd0-aaf6-9cbd3d437e71"
      },
      "execution_count": 9,
      "outputs": [
        {
          "output_type": "execute_result",
          "data": {
            "text/plain": [
              "1      [{'contract_id': 522530, 'bank': '003', 'summa...\n",
              "8      [{'contract_id': '', 'bank': '062', 'summa': '...\n",
              "21     [{'contract_id': '', 'bank': '014', 'summa': '...\n",
              "24     [{'contract_id': '', 'bank': '014', 'summa': '...\n",
              "33     [{'contract_id': 19795, 'bank': '004', 'summa'...\n",
              "                             ...                        \n",
              "963    [{'contract_id': '', 'bank': 'ORG', 'summa': '...\n",
              "974    [{'contract_id': '', 'bank': '053', 'summa': '...\n",
              "979    [{'contract_id': '', 'bank': '014', 'summa': '...\n",
              "983    [{'contract_id': 29817, 'bank': '004', 'summa'...\n",
              "989    [{'contract_id': 18410, 'bank': '004', 'summa'...\n",
              "Name: contracts, Length: 137, dtype: object"
            ]
          },
          "metadata": {},
          "execution_count": 9
        }
      ]
    },
    {
      "cell_type": "markdown",
      "source": [
        "We can see that, we don't have duplicates anymore"
      ],
      "metadata": {
        "id": "BeLCww5j_Uzn"
      }
    },
    {
      "cell_type": "markdown",
      "source": [
        "In some parts of feature engineering, we might be interested how\n",
        "values look like in the contracts"
      ],
      "metadata": {
        "id": "UtRQcXyX6gnB"
      }
    },
    {
      "cell_type": "code",
      "source": [
        "def val_count(col):\n",
        "  c = Counter()\n",
        "  for row in range(df.shape[0]):\n",
        "    if isinstance(df.iloc[row]['contracts'], dict):\n",
        "      if col in df.iloc[row]['contracts']:\n",
        "        c[df.iloc[row]['contracts'][col]] += 1\n",
        "      else:\n",
        "        c[None] += 1\n",
        "    else:\n",
        "      for contract in df.iloc[row]['contracts']:\n",
        "        if col in contract:\n",
        "          c[contract[col]] += 1\n",
        "        else:\n",
        "          c[None] += 1\n",
        "  return c"
      ],
      "metadata": {
        "id": "XElwq0Em6et9"
      },
      "execution_count": 11,
      "outputs": []
    },
    {
      "cell_type": "markdown",
      "source": [
        "## 2. Feature `tot_claim_cnt_l180d`"
      ],
      "metadata": {
        "id": "hzbHFrj39DZR"
      }
    },
    {
      "cell_type": "markdown",
      "source": [
        "Description: number of claims for last 180 days\n",
        "Source: contracts\n",
        "Key fields: `claim_id`, `claim_date`\n",
        "Special notes:\n",
        "1. In case `claim date` is `null`, don't take into consideration such claims.\n",
        "2. In case no claims, then put -3 as a value of this feature."
      ],
      "metadata": {
        "id": "XiCzOVuF9pTW"
      }
    },
    {
      "cell_type": "code",
      "source": [
        "current_date = datetime.now()\n",
        "date_format = '%d.%m.%Y'\n",
        "\n",
        "# this part of the code developed at 11th June, so if you want to reproduce same results,\n",
        "# please change current_date part to the  `datetime.strptime('11.06.2024', date_format)`\n",
        "\n",
        "def less_than_180d(date):\n",
        "  if date is None:\n",
        "    return 0\n",
        "  given_date = datetime.strptime(date, date_format)\n",
        "\n",
        "  difference = current_date - given_date\n",
        "  return int(difference.days <= 180)"
      ],
      "metadata": {
        "id": "M1w6uOQ9AQ16"
      },
      "execution_count": 12,
      "outputs": []
    },
    {
      "cell_type": "code",
      "source": [
        "assert less_than_180d('11.06.2024') == 1\n",
        "assert less_than_180d(None) == 0\n"
      ],
      "metadata": {
        "id": "Kfnj-syv6uBb"
      },
      "execution_count": 13,
      "outputs": []
    },
    {
      "cell_type": "code",
      "source": [
        "claim_id_vals = val_count('claim_id')\n",
        "claim_id_vals"
      ],
      "metadata": {
        "collapsed": true,
        "id": "i65FsxnA81Je"
      },
      "execution_count": null,
      "outputs": []
    },
    {
      "cell_type": "code",
      "source": [
        "def tot_claim_l180d(contracts):\n",
        "  if isinstance(contracts, dict):\n",
        "    return less_than_180d(contracts['claim_date']) if less_than_180d(contracts['claim_date']) else -3\n",
        "  else:\n",
        "    claim_ids = set()\n",
        "    for contract in contracts:\n",
        "      if less_than_180d(contract['claim_date']):\n",
        "        claim_ids.add(contract['claim_id'])\n",
        "    return len(claim_ids) if len(claim_ids) else -3"
      ],
      "metadata": {
        "id": "E-aAPmjq8nZ9"
      },
      "execution_count": 15,
      "outputs": []
    },
    {
      "cell_type": "code",
      "source": [
        "df['tot_claim_cnt_l180d'] = df['contracts'].apply(tot_claim_l180d)"
      ],
      "metadata": {
        "id": "OhuREmDODxog"
      },
      "execution_count": 16,
      "outputs": []
    },
    {
      "cell_type": "code",
      "source": [
        "# let's check if there invalid values\n",
        "df['tot_claim_cnt_l180d'].value_counts()"
      ],
      "metadata": {
        "colab": {
          "base_uri": "https://localhost:8080/"
        },
        "id": "iMT-OZ5CFb66",
        "outputId": "ce454363-5941-4e65-e380-14ebdc18f280",
        "collapsed": true
      },
      "execution_count": 17,
      "outputs": [
        {
          "output_type": "execute_result",
          "data": {
            "text/plain": [
              "tot_claim_cnt_l180d\n",
              "-3     37\n",
              " 2     28\n",
              " 1     22\n",
              " 3     11\n",
              " 5      7\n",
              " 4      7\n",
              " 9      3\n",
              " 6      3\n",
              " 11     3\n",
              " 13     3\n",
              " 12     2\n",
              " 8      2\n",
              " 7      2\n",
              " 34     1\n",
              " 21     1\n",
              " 44     1\n",
              " 10     1\n",
              " 62     1\n",
              " 55     1\n",
              " 18     1\n",
              "Name: count, dtype: int64"
            ]
          },
          "metadata": {},
          "execution_count": 17
        }
      ]
    },
    {
      "cell_type": "markdown",
      "source": [
        "## 3. Feature `disb_bank_loan_wo_tbc`"
      ],
      "metadata": {
        "id": "n9U0yGEAF5mF"
      }
    },
    {
      "cell_type": "markdown",
      "source": [
        "Description: Sum of exposue of loans without TBC loans. Exposure means here field `loan_summa`.\n",
        "Source: `contracts`\n",
        "Key fields: `bank`, `loan_summa`, `contract_date`\n",
        "Special notes:\n",
        "1. Consider only loans where field `bank` is not in `['LIZ', 'LOM', 'MKO', 'SUG', null]`.\n",
        "2. Disbursed loans means loans where `contract_date` is not `null`\n",
        "\n",
        "In case no claims, then put -3 as a value of this feature.\n",
        "\n",
        "If no loans at all, then put -1 as a value of this feature."
      ],
      "metadata": {
        "id": "quimtyg0Huh4"
      }
    },
    {
      "cell_type": "code",
      "source": [
        "# let's check how the names of banks look like\n",
        "banks_count = val_count('bank')\n",
        "banks_count"
      ],
      "metadata": {
        "collapsed": true,
        "id": "sAetXphIJXw1"
      },
      "execution_count": null,
      "outputs": []
    },
    {
      "cell_type": "markdown",
      "source": [
        "\"In case no claims, then put -3 as a value of this feature.\n",
        "If no loans at all, then put -1 as a value of this feature\"\n",
        "This part was confusing little bit to me, so this is how I\n",
        "decided what record have no claims and what record has no loans at all:\n",
        "1. If none of the contracts has valid `contract_date`, then this contract has no claims\n",
        "2. If the total sum of `loan_summa` is 0, then it counted as no loans at all\n",
        "Depending on the definiton it might change."
      ],
      "metadata": {
        "id": "fqoej435plcm"
      }
    },
    {
      "cell_type": "code",
      "source": [
        "not_allowed_banks = ['LIZ', 'LOM', 'MKO', 'SUG', None]\n",
        "def calculated_loan(contract):\n",
        "  claim = loan = summa = 0\n",
        "  # here I added `contract['contract_date'].strip() != ''`\n",
        "  # since some dates are empty strings and they pass the first check\n",
        "  if contract['contract_date'] is not None and contract['contract_date'].strip() != '':\n",
        "    claim = 1\n",
        "    # here I added 'bank' in contract checking,\n",
        "    # since some contracts do not have this property\n",
        "    if 'bank' in contract and contract['bank'] not in not_allowed_banks and isinstance(contract['loan_summa'], int):\n",
        "      loan = 1\n",
        "      summa = contract['loan_summa']\n",
        "  return claim, loan, summa\n",
        "\n",
        "def sum_of_exposure_loans(contracts):\n",
        "  total = 0\n",
        "  claim = loan = 0\n",
        "  if isinstance(contracts, dict):\n",
        "    claim, loan, summa = calculated_loan(contracts)\n",
        "    if claim == 0:\n",
        "      return -3\n",
        "    if loan == 0:\n",
        "      return -1\n",
        "    return summa if summa else -1\n",
        "  else:\n",
        "    for contract in contracts:\n",
        "      claim_, loan_, summa = calculated_loan(contract)\n",
        "      claim |= claim_\n",
        "      loan |= loan_\n",
        "      total += summa\n",
        "    if claim == 0:\n",
        "      return -3\n",
        "    elif loan == 0:\n",
        "      return -1\n",
        "  return total if total != 0 else -1"
      ],
      "metadata": {
        "id": "BVbJJ6X2GoOg"
      },
      "execution_count": 19,
      "outputs": []
    },
    {
      "cell_type": "markdown",
      "source": [
        "As we can see some `loan_summa` quantities are equal to empty string."
      ],
      "metadata": {
        "id": "x9z79V5204pL"
      }
    },
    {
      "cell_type": "code",
      "source": [
        "df['disb_bank_loan_wo_tbc'] = df['contracts'].apply(sum_of_exposure_loans)"
      ],
      "metadata": {
        "id": "E25m5-hBbHwg"
      },
      "execution_count": 20,
      "outputs": []
    },
    {
      "cell_type": "code",
      "source": [
        "# let's check if there invalid values\n",
        "df['disb_bank_loan_wo_tbc'].value_counts()"
      ],
      "metadata": {
        "colab": {
          "base_uri": "https://localhost:8080/"
        },
        "id": "MdvaS2k9eI0X",
        "outputId": "1136bae1-3294-4d18-ebdc-54f710135841"
      },
      "execution_count": 21,
      "outputs": [
        {
          "output_type": "execute_result",
          "data": {
            "text/plain": [
              "disb_bank_loan_wo_tbc\n",
              "-1             39\n",
              "-3             28\n",
              " 1148778676     1\n",
              " 3319227081     1\n",
              " 491809096      1\n",
              "               ..\n",
              " 3692414810     1\n",
              " 7045370606     1\n",
              " 431182433      1\n",
              " 1374999700     1\n",
              " 217320883      1\n",
              "Name: count, Length: 72, dtype: int64"
            ]
          },
          "metadata": {},
          "execution_count": 21
        }
      ]
    },
    {
      "cell_type": "markdown",
      "source": [
        "## 4. Feature `day_sinlastloan`\n"
      ],
      "metadata": {
        "id": "pYSvmOhD1HnW"
      }
    },
    {
      "cell_type": "markdown",
      "source": [
        "Description: Number of days since last loan.\n",
        "\n",
        "Source: `contracts`\n",
        "\n",
        "Key fields: `contract_date`, `summa`\n",
        "\n",
        "Special notes:\n",
        "1. Take last loan of client where `summa` is not `null` and calculate number of days from `contract_date` of this loan to `application date`.\n",
        "\n",
        "In case no claims at all, then put `-3` as a value of this feature.\n",
        "\n",
        "In case no loans at all, then put `-1` as a value of this feature."
      ],
      "metadata": {
        "id": "GsJwurwK1YIp"
      }
    },
    {
      "cell_type": "code",
      "source": [
        "vals_loan = val_count('loan_summa')\n",
        "vals_loan"
      ],
      "metadata": {
        "colab": {
          "base_uri": "https://localhost:8080/"
        },
        "collapsed": true,
        "id": "Ly1plYK4Ruzl",
        "outputId": "db362da0-ef98-4123-c7cd-fddb8ae9fd5c"
      },
      "execution_count": 22,
      "outputs": [
        {
          "output_type": "execute_result",
          "data": {
            "text/plain": [
              "Counter({0: 339,\n",
              "         '': 2051,\n",
              "         99995700: 1,\n",
              "         1826666670: 1,\n",
              "         95023559: 1,\n",
              "         616161522: 1,\n",
              "         4800400: 1,\n",
              "         559300000: 1,\n",
              "         134400000: 1,\n",
              "         986823571: 1,\n",
              "         266176712: 1,\n",
              "         923827006: 1,\n",
              "         9905106700: 1,\n",
              "         254283334: 1,\n",
              "         18442666: 1,\n",
              "         801807969: 1,\n",
              "         447198944: 1,\n",
              "         172656000: 1,\n",
              "         233087600: 1,\n",
              "         190050000: 1,\n",
              "         300000000: 1,\n",
              "         424380000: 1,\n",
              "         19384938046: 1,\n",
              "         10308484000: 1,\n",
              "         1200000000: 2,\n",
              "         3225259367: 1,\n",
              "         28399988003: 1,\n",
              "         389592220: 1,\n",
              "         75600000: 1,\n",
              "         6865950137: 1,\n",
              "         208232666: 1,\n",
              "         700000000: 1,\n",
              "         1416572231: 1,\n",
              "         2246066349: 1,\n",
              "         243332915: 1,\n",
              "         442425035: 1,\n",
              "         39332200: 1,\n",
              "         8150077272: 1,\n",
              "         1000000000: 2,\n",
              "         307403141: 1,\n",
              "         133632000: 1,\n",
              "         660811600: 1,\n",
              "         309600000: 1,\n",
              "         3767550595: 1,\n",
              "         1374999700: 1,\n",
              "         353297791: 1,\n",
              "         77884642: 1,\n",
              "         7045370606: 1,\n",
              "         3190000000: 1,\n",
              "         502414810: 1,\n",
              "         41667400: 1,\n",
              "         136001300: 1,\n",
              "         1008000000: 1,\n",
              "         872874400: 1,\n",
              "         364000000: 1,\n",
              "         275385500: 1,\n",
              "         11528774954: 1,\n",
              "         2854052300: 1,\n",
              "         456374022: 1,\n",
              "         34500000: 1,\n",
              "         7713249426: 1,\n",
              "         3300000000: 1,\n",
              "         3696000: 1,\n",
              "         333333500: 1,\n",
              "         317100000: 1,\n",
              "         64399700: 1,\n",
              "         591134623: 1,\n",
              "         118800000: 1,\n",
              "         3369374993: 1,\n",
              "         13029334: 1,\n",
              "         82579825: 1,\n",
              "         107673800: 1,\n",
              "         29400000: 1,\n",
              "         31248000: 1,\n",
              "         1300000000: 2,\n",
              "         13608000: 1,\n",
              "         565060264: 1,\n",
              "         314000000: 1,\n",
              "         163599931: 1,\n",
              "         574428564: 1,\n",
              "         190848595: 1,\n",
              "         197364715: 1,\n",
              "         100000000: 2,\n",
              "         747162615: 1,\n",
              "         614107601: 1,\n",
              "         205400000: 1,\n",
              "         583332600: 1,\n",
              "         3907981439: 1,\n",
              "         486607056: 1,\n",
              "         611600000: 1,\n",
              "         713977300: 1,\n",
              "         1469998800: 1,\n",
              "         707319423: 1,\n",
              "         411000000: 1,\n",
              "         196974000: 1,\n",
              "         204446666: 1,\n",
              "         1121317: 1,\n",
              "         31022042493: 1,\n",
              "         953687751: 1,\n",
              "         16666666: 1,\n",
              "         33301061: 1,\n",
              "         323870249: 1,\n",
              "         69103888: 1,\n",
              "         671264944: 1,\n",
              "         477513732: 1,\n",
              "         250000000: 1,\n",
              "         32700000000: 1,\n",
              "         60000000: 1,\n",
              "         200000000: 1,\n",
              "         150000000: 1,\n",
              "         1217985809: 1,\n",
              "         265500000: 1,\n",
              "         3281945205: 1,\n",
              "         151200000: 1,\n",
              "         25142396: 1,\n",
              "         466666700: 1,\n",
              "         1277020624: 1,\n",
              "         175588015: 1,\n",
              "         175435881: 1,\n",
              "         560186490: 1,\n",
              "         377303857: 1,\n",
              "         376998691: 1,\n",
              "         376693523: 1,\n",
              "         241824891: 1,\n",
              "         3157856308: 1,\n",
              "         882361654: 1,\n",
              "         209141407: 1,\n",
              "         190555379: 1,\n",
              "         1923205715: 1,\n",
              "         69000000: 1,\n",
              "         10435758829: 1,\n",
              "         10642774100: 1,\n",
              "         159750000: 1,\n",
              "         79466200: 1,\n",
              "         1494204: 1,\n",
              "         2655000001: 1,\n",
              "         2874666: 1,\n",
              "         22288000: 1,\n",
              "         1046032985: 1,\n",
              "         7269311925: 1,\n",
              "         899910000: 1,\n",
              "         912982004: 1,\n",
              "         242618506: 1,\n",
              "         259140744: 1,\n",
              "         92499164: 1,\n",
              "         875000000: 1,\n",
              "         61274721: 1,\n",
              "         198333200: 1,\n",
              "         297334099: 1,\n",
              "         1247185729: 1,\n",
              "         1598577704: 1,\n",
              "         840000000: 1,\n",
              "         249917691: 1,\n",
              "         387387217: 1,\n",
              "         99935325: 1,\n",
              "         275880000: 1,\n",
              "         390720000: 1,\n",
              "         18187711912: 1,\n",
              "         505555560: 1,\n",
              "         1766563873: 1,\n",
              "         1177375147: 1,\n",
              "         422772486: 1,\n",
              "         330555556: 1,\n",
              "         217320883: 1})"
            ]
          },
          "metadata": {},
          "execution_count": 22
        }
      ]
    },
    {
      "cell_type": "markdown",
      "source": [
        "As we can see some `loan_summa` values are `0` or empty string."
      ],
      "metadata": {
        "id": "tPafj_-3ZGH-"
      }
    },
    {
      "cell_type": "code",
      "source": [
        "def valid_contract_date(date):\n",
        "  return date is not None and date.strip() != ''\n",
        "\n",
        "def valid_loan_summa(summa):\n",
        "  return summa not in (\"\", 0)"
      ],
      "metadata": {
        "id": "PtxG4HPvbLIJ"
      },
      "execution_count": 23,
      "outputs": []
    },
    {
      "cell_type": "code",
      "source": [
        "# given_date = datetime.strptime(date, date_format)\n",
        "date_format = '%d.%m.%Y'\n",
        "def last_loan(contracts):\n",
        "  last_loan = -1\n",
        "  claim = loan = 0\n",
        "  if isinstance(contracts, dict):\n",
        "    if not valid_contract_date(contracts['contract_date']):\n",
        "      return -3\n",
        "    if not valid_loan_summa(contracts['loan_summa']):\n",
        "      return -1\n",
        "    return datetime.strptime(contracts['contract_date'], date_format)\n",
        "  for contract in contracts:\n",
        "    if not valid_contract_date(contract['contract_date']):\n",
        "      continue\n",
        "    claim = 1\n",
        "    if valid_loan_summa(contract['contract_date']):\n",
        "      given_date = datetime.strptime(contract['contract_date'], date_format)\n",
        "      loan = 1\n",
        "      if last_loan == -1 or given_date > last_loan:\n",
        "        last_loan = given_date\n",
        "  if claim == 0:\n",
        "    return -3\n",
        "  if loan == 0:\n",
        "    return -1\n",
        "  return last_loan"
      ],
      "metadata": {
        "id": "HX2GbsTO1bOL"
      },
      "execution_count": 24,
      "outputs": []
    },
    {
      "cell_type": "code",
      "source": [
        "def diff_contract_application(row):\n",
        "  last_loan, application_date = row['last_loan'], row['application_date']\n",
        "  application_date = datetime.strptime(application_date[:10], \"%Y-%m-%d\")\n",
        "  if last_loan == -3:\n",
        "    return -3\n",
        "  if last_loan == -1:\n",
        "    return -1\n",
        "  return (application_date - last_loan).days"
      ],
      "metadata": {
        "id": "fbjjR1y4dRNb"
      },
      "execution_count": 25,
      "outputs": []
    },
    {
      "cell_type": "code",
      "source": [
        "df['application_date'].value_counts()"
      ],
      "metadata": {
        "colab": {
          "base_uri": "https://localhost:8080/"
        },
        "id": "GRv0HeLDg8FM",
        "outputId": "7903a7f3-a05e-4edc-e04b-d104e02ddf35"
      },
      "execution_count": 26,
      "outputs": [
        {
          "output_type": "execute_result",
          "data": {
            "text/plain": [
              "application_date\n",
              "2024-02-12 19:24:29.135000+00:00    1\n",
              "2024-02-13 05:43:04.731000+00:00    1\n",
              "2024-02-13 05:37:40.622000+00:00    1\n",
              "2024-02-13 05:39:57.399000+00:00    1\n",
              "2024-02-13 05:40:30.287000+00:00    1\n",
              "                                   ..\n",
              "2024-02-13 04:54:49.641000+00:00    1\n",
              "2024-02-13 04:54:10.776000+00:00    1\n",
              "2024-02-13 04:53:41.149000+00:00    1\n",
              "2024-02-13 04:52:42.959000+00:00    1\n",
              "2024-02-13 06:09:26.994000+00:00    1\n",
              "Name: count, Length: 137, dtype: int64"
            ]
          },
          "metadata": {},
          "execution_count": 26
        }
      ]
    },
    {
      "cell_type": "code",
      "source": [
        "df['last_loan'] = df['contracts'].apply(last_loan)"
      ],
      "metadata": {
        "id": "3_uaxiYNfNma"
      },
      "execution_count": 27,
      "outputs": []
    },
    {
      "cell_type": "code",
      "source": [
        "df['day_sinlastloan'] = df.apply(lambda x: diff_contract_application(x), axis=1)"
      ],
      "metadata": {
        "id": "LpuOqGa6YKPg"
      },
      "execution_count": 28,
      "outputs": []
    },
    {
      "cell_type": "markdown",
      "source": [
        "Let's check the values and if there any invalid ones:"
      ],
      "metadata": {
        "id": "jeCksW12CupB"
      }
    },
    {
      "cell_type": "code",
      "source": [
        "df['day_sinlastloan'].value_counts()"
      ],
      "metadata": {
        "colab": {
          "base_uri": "https://localhost:8080/"
        },
        "id": "5t8snfSnqBzP",
        "outputId": "b058c939-09ca-4f26-afef-322fdf8a6a6c"
      },
      "execution_count": 29,
      "outputs": [
        {
          "output_type": "execute_result",
          "data": {
            "text/plain": [
              "day_sinlastloan\n",
              "-3      28\n",
              "-1       5\n",
              " 15      4\n",
              " 13      3\n",
              " 4       3\n",
              "        ..\n",
              " 106     1\n",
              " 553     1\n",
              " 156     1\n",
              " 369     1\n",
              " 729     1\n",
              "Name: count, Length: 91, dtype: int64"
            ]
          },
          "metadata": {},
          "execution_count": 29
        }
      ]
    },
    {
      "cell_type": "code",
      "source": [
        "df.columns"
      ],
      "metadata": {
        "colab": {
          "base_uri": "https://localhost:8080/"
        },
        "id": "ujuTmcqyDPnQ",
        "outputId": "e089e15e-1376-420b-a49b-42c0a65e00d1"
      },
      "execution_count": 30,
      "outputs": [
        {
          "output_type": "execute_result",
          "data": {
            "text/plain": [
              "Index(['id', 'application_date', 'contracts', 'tot_claim_cnt_l180d',\n",
              "       'disb_bank_loan_wo_tbc', 'last_loan', 'day_sinlastloan'],\n",
              "      dtype='object')"
            ]
          },
          "metadata": {},
          "execution_count": 30
        }
      ]
    },
    {
      "cell_type": "code",
      "source": [
        "# last_loan column is only needed to calculate day_sinlastloan,\n",
        "# so, let's drop it\n",
        "df = df.drop(columns=['last_loan'], axis=1)"
      ],
      "metadata": {
        "id": "1YflRqEyC1lr"
      },
      "execution_count": 31,
      "outputs": []
    },
    {
      "cell_type": "code",
      "source": [
        "df.columns"
      ],
      "metadata": {
        "colab": {
          "base_uri": "https://localhost:8080/"
        },
        "id": "0NnAYoWhDZGJ",
        "outputId": "f70be3cf-b109-4cbf-df02-99eb508535ca"
      },
      "execution_count": 32,
      "outputs": [
        {
          "output_type": "execute_result",
          "data": {
            "text/plain": [
              "Index(['id', 'application_date', 'contracts', 'tot_claim_cnt_l180d',\n",
              "       'disb_bank_loan_wo_tbc', 'day_sinlastloan'],\n",
              "      dtype='object')"
            ]
          },
          "metadata": {},
          "execution_count": 32
        }
      ]
    }
  ]
}